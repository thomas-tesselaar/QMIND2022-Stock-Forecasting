{
 "cells": [
  {
   "cell_type": "code",
   "execution_count": 3,
   "id": "810fb80a",
   "metadata": {},
   "outputs": [],
   "source": [
    "import pandas as pd\n",
    "import numpy as np\n",
    "import sys\n",
    "sys.path.append(\"../DataPreprocessing\")\n",
    "# from DataPreprocessing \n",
    "import data_preprocessing as data_prep\n",
    "# sys.path.append(\"../Data\")\n",
    "from sklearn.neural_network import MLPClassifier\n",
    "from sklearn.metrics import accuracy_score"
   ]
  },
  {
   "cell_type": "code",
   "execution_count": 4,
   "id": "528a1845",
   "metadata": {},
   "outputs": [],
   "source": [
    "def get_data():\n",
    "  stock_name = 'AAPL'\n",
    "  search_names = ['multiTimeline-'+str(i) for i in range(1,11)]\n",
    "  main_df = data_prep.merge_csv(stock_name, search_names, search_suffix = '', pathname = \"../keyword_checking/AAPL Data/\", print_head = False, stock_rows_to_drop=[0,1,261])\n",
    "  data_prep.derive_columns(main_df, len(search_names), print_head = False)\n",
    "  clean_df = data_prep.prep_for_learning(main_df, normalize = 'min-max')\n",
    "\n",
    "  test_df = clean_df.sample(frac=(1/4))\n",
    "\n",
    "  train_df = clean_df.drop(index = test_df.index)\n",
    "\n",
    "  test_y = test_df[\"Price Movement\"].to_numpy()\n",
    "  test_x = test_df.drop(columns = \"Price Movement\").to_numpy()\n",
    "\n",
    "  train_y = train_df[\"Price Movement\"].to_numpy()\n",
    "  train_x = train_df.drop(columns = \"Price Movement\").to_numpy()\n",
    "  \n",
    "  return test_x, test_y, train_x, train_y\n",
    "\n",
    "def fit_data(train_x, train_y):\n",
    "  clf = MLPClassifier(hidden_layer_sizes=(6,5),\n",
    "  random_state=5,\n",
    "  verbose=True,\n",
    "  learning_rate_init=0.01)\n",
    "\n",
    "  clf.fit(train_x, train_y)\n",
    "  return clf\n",
    "  \n",
    "def predict(test_x, test_y, train_x, train_y):\n",
    "  clf = fit_data(train_x, train_y)\n",
    "  ypred = clf.predict(test_x)\n",
    "  a_score = accuracy_score(test_y, ypred)\n",
    "  return a_score, ypred, test_y"
   ]
  },
  {
   "cell_type": "code",
   "execution_count": 35,
   "id": "553100e4",
   "metadata": {},
   "outputs": [
    {
     "data": {
      "text/html": [
       "<div>\n",
       "<style scoped>\n",
       "    .dataframe tbody tr th:only-of-type {\n",
       "        vertical-align: middle;\n",
       "    }\n",
       "\n",
       "    .dataframe tbody tr th {\n",
       "        vertical-align: top;\n",
       "    }\n",
       "\n",
       "    .dataframe thead th {\n",
       "        text-align: right;\n",
       "    }\n",
       "</style>\n",
       "<table border=\"1\" class=\"dataframe\">\n",
       "  <thead>\n",
       "    <tr style=\"text-align: right;\">\n",
       "      <th></th>\n",
       "      <th>sf_0</th>\n",
       "      <th>sf_1</th>\n",
       "      <th>sf_2</th>\n",
       "      <th>sf_3</th>\n",
       "      <th>sf_4</th>\n",
       "      <th>sf_5</th>\n",
       "      <th>sf_6</th>\n",
       "      <th>sf_7</th>\n",
       "      <th>sf_8</th>\n",
       "      <th>sf_9</th>\n",
       "      <th>...</th>\n",
       "      <th>One Week Ago Search 1</th>\n",
       "      <th>One Week Ago Search 2</th>\n",
       "      <th>One Week Ago Search 3</th>\n",
       "      <th>One Week Ago Search 4</th>\n",
       "      <th>One Week Ago Search 5</th>\n",
       "      <th>One Week Ago Search 6</th>\n",
       "      <th>One Week Ago Search 7</th>\n",
       "      <th>One Week Ago Search 8</th>\n",
       "      <th>One Week Ago Search 9</th>\n",
       "      <th>Price Movement</th>\n",
       "    </tr>\n",
       "  </thead>\n",
       "  <tbody>\n",
       "    <tr>\n",
       "      <th>0</th>\n",
       "      <td>0.25</td>\n",
       "      <td>0.57</td>\n",
       "      <td>0.15</td>\n",
       "      <td>0.76</td>\n",
       "      <td>0.59</td>\n",
       "      <td>0.63</td>\n",
       "      <td>0.59</td>\n",
       "      <td>0.11</td>\n",
       "      <td>0.24</td>\n",
       "      <td>0.37</td>\n",
       "      <td>...</td>\n",
       "      <td>0.56</td>\n",
       "      <td>0.19</td>\n",
       "      <td>0.74</td>\n",
       "      <td>0.62</td>\n",
       "      <td>0.62</td>\n",
       "      <td>0.62</td>\n",
       "      <td>0.12</td>\n",
       "      <td>0.18</td>\n",
       "      <td>0.50</td>\n",
       "      <td>1.0</td>\n",
       "    </tr>\n",
       "    <tr>\n",
       "      <th>1</th>\n",
       "      <td>0.25</td>\n",
       "      <td>0.57</td>\n",
       "      <td>0.13</td>\n",
       "      <td>0.76</td>\n",
       "      <td>0.61</td>\n",
       "      <td>0.61</td>\n",
       "      <td>0.60</td>\n",
       "      <td>0.13</td>\n",
       "      <td>0.29</td>\n",
       "      <td>0.00</td>\n",
       "      <td>...</td>\n",
       "      <td>0.57</td>\n",
       "      <td>0.15</td>\n",
       "      <td>0.76</td>\n",
       "      <td>0.59</td>\n",
       "      <td>0.63</td>\n",
       "      <td>0.59</td>\n",
       "      <td>0.11</td>\n",
       "      <td>0.24</td>\n",
       "      <td>0.37</td>\n",
       "      <td>1.0</td>\n",
       "    </tr>\n",
       "    <tr>\n",
       "      <th>2</th>\n",
       "      <td>0.24</td>\n",
       "      <td>0.57</td>\n",
       "      <td>0.16</td>\n",
       "      <td>0.80</td>\n",
       "      <td>0.59</td>\n",
       "      <td>0.62</td>\n",
       "      <td>0.57</td>\n",
       "      <td>0.13</td>\n",
       "      <td>0.18</td>\n",
       "      <td>0.62</td>\n",
       "      <td>...</td>\n",
       "      <td>0.57</td>\n",
       "      <td>0.13</td>\n",
       "      <td>0.76</td>\n",
       "      <td>0.61</td>\n",
       "      <td>0.61</td>\n",
       "      <td>0.60</td>\n",
       "      <td>0.13</td>\n",
       "      <td>0.29</td>\n",
       "      <td>0.00</td>\n",
       "      <td>-1.0</td>\n",
       "    </tr>\n",
       "    <tr>\n",
       "      <th>3</th>\n",
       "      <td>0.25</td>\n",
       "      <td>0.55</td>\n",
       "      <td>0.16</td>\n",
       "      <td>0.78</td>\n",
       "      <td>0.60</td>\n",
       "      <td>0.65</td>\n",
       "      <td>0.57</td>\n",
       "      <td>0.14</td>\n",
       "      <td>0.41</td>\n",
       "      <td>0.19</td>\n",
       "      <td>...</td>\n",
       "      <td>0.57</td>\n",
       "      <td>0.16</td>\n",
       "      <td>0.80</td>\n",
       "      <td>0.59</td>\n",
       "      <td>0.62</td>\n",
       "      <td>0.57</td>\n",
       "      <td>0.13</td>\n",
       "      <td>0.18</td>\n",
       "      <td>0.62</td>\n",
       "      <td>-1.0</td>\n",
       "    </tr>\n",
       "    <tr>\n",
       "      <th>4</th>\n",
       "      <td>0.23</td>\n",
       "      <td>0.54</td>\n",
       "      <td>0.17</td>\n",
       "      <td>0.77</td>\n",
       "      <td>0.60</td>\n",
       "      <td>0.68</td>\n",
       "      <td>0.58</td>\n",
       "      <td>0.17</td>\n",
       "      <td>0.31</td>\n",
       "      <td>0.15</td>\n",
       "      <td>...</td>\n",
       "      <td>0.55</td>\n",
       "      <td>0.16</td>\n",
       "      <td>0.78</td>\n",
       "      <td>0.60</td>\n",
       "      <td>0.65</td>\n",
       "      <td>0.57</td>\n",
       "      <td>0.14</td>\n",
       "      <td>0.41</td>\n",
       "      <td>0.19</td>\n",
       "      <td>1.0</td>\n",
       "    </tr>\n",
       "  </tbody>\n",
       "</table>\n",
       "<p>5 rows × 71 columns</p>\n",
       "</div>"
      ],
      "text/plain": [
       "   sf_0  sf_1  sf_2  sf_3  sf_4  sf_5  sf_6  sf_7  sf_8  sf_9  ...  \\\n",
       "0  0.25  0.57  0.15  0.76  0.59  0.63  0.59  0.11  0.24  0.37  ...   \n",
       "1  0.25  0.57  0.13  0.76  0.61  0.61  0.60  0.13  0.29  0.00  ...   \n",
       "2  0.24  0.57  0.16  0.80  0.59  0.62  0.57  0.13  0.18  0.62  ...   \n",
       "3  0.25  0.55  0.16  0.78  0.60  0.65  0.57  0.14  0.41  0.19  ...   \n",
       "4  0.23  0.54  0.17  0.77  0.60  0.68  0.58  0.17  0.31  0.15  ...   \n",
       "\n",
       "   One Week Ago Search 1  One Week Ago Search 2  One Week Ago Search 3  \\\n",
       "0                   0.56                   0.19                   0.74   \n",
       "1                   0.57                   0.15                   0.76   \n",
       "2                   0.57                   0.13                   0.76   \n",
       "3                   0.57                   0.16                   0.80   \n",
       "4                   0.55                   0.16                   0.78   \n",
       "\n",
       "   One Week Ago Search 4  One Week Ago Search 5  One Week Ago Search 6  \\\n",
       "0                   0.62                   0.62                   0.62   \n",
       "1                   0.59                   0.63                   0.59   \n",
       "2                   0.61                   0.61                   0.60   \n",
       "3                   0.59                   0.62                   0.57   \n",
       "4                   0.60                   0.65                   0.57   \n",
       "\n",
       "   One Week Ago Search 7  One Week Ago Search 8  One Week Ago Search 9  \\\n",
       "0                   0.12                   0.18                   0.50   \n",
       "1                   0.11                   0.24                   0.37   \n",
       "2                   0.13                   0.29                   0.00   \n",
       "3                   0.13                   0.18                   0.62   \n",
       "4                   0.14                   0.41                   0.19   \n",
       "\n",
       "   Price Movement  \n",
       "0             1.0  \n",
       "1             1.0  \n",
       "2            -1.0  \n",
       "3            -1.0  \n",
       "4             1.0  \n",
       "\n",
       "[5 rows x 71 columns]"
      ]
     },
     "metadata": {},
     "output_type": "display_data"
    },
    {
     "name": "stdout",
     "output_type": "stream",
     "text": [
      "Iteration 1, loss = 0.68128358\n",
      "Iteration 2, loss = 0.67097968\n",
      "Iteration 3, loss = 0.67057692\n",
      "Iteration 4, loss = 0.66744584\n",
      "Iteration 5, loss = 0.66356792\n",
      "Iteration 6, loss = 0.66260370\n",
      "Iteration 7, loss = 0.66014360\n",
      "Iteration 8, loss = 0.65630027\n",
      "Iteration 9, loss = 0.65282741\n",
      "Iteration 10, loss = 0.64978633\n",
      "Iteration 11, loss = 0.64741215\n",
      "Iteration 12, loss = 0.64499875\n",
      "Iteration 13, loss = 0.64298719\n",
      "Iteration 14, loss = 0.64057483\n",
      "Iteration 15, loss = 0.63722790\n",
      "Iteration 16, loss = 0.63426196\n",
      "Iteration 17, loss = 0.63142163\n",
      "Iteration 18, loss = 0.62861970\n",
      "Iteration 19, loss = 0.62622733\n",
      "Iteration 20, loss = 0.62382953\n",
      "Iteration 21, loss = 0.62128862\n",
      "Iteration 22, loss = 0.61872053\n",
      "Iteration 23, loss = 0.61599330\n",
      "Iteration 24, loss = 0.61289432\n",
      "Iteration 25, loss = 0.60984350\n",
      "Iteration 26, loss = 0.60658061\n",
      "Iteration 27, loss = 0.60315338\n",
      "Iteration 28, loss = 0.59960411\n",
      "Iteration 29, loss = 0.59568775\n",
      "Iteration 30, loss = 0.59128444\n",
      "Iteration 31, loss = 0.58709716\n",
      "Iteration 32, loss = 0.58256418\n",
      "Iteration 33, loss = 0.57815747\n",
      "Iteration 34, loss = 0.57324860\n",
      "Iteration 35, loss = 0.56904873\n",
      "Iteration 36, loss = 0.56508162\n",
      "Iteration 37, loss = 0.56072180\n",
      "Iteration 38, loss = 0.55513199\n",
      "Iteration 39, loss = 0.55061124\n",
      "Iteration 40, loss = 0.54531283\n",
      "Iteration 41, loss = 0.54078466\n",
      "Iteration 42, loss = 0.53433777\n",
      "Iteration 43, loss = 0.52965487\n",
      "Iteration 44, loss = 0.52372184\n",
      "Iteration 45, loss = 0.51978354\n",
      "Iteration 46, loss = 0.51477066\n",
      "Iteration 47, loss = 0.51019090\n",
      "Iteration 48, loss = 0.50616116\n",
      "Iteration 49, loss = 0.50191034\n",
      "Iteration 50, loss = 0.49791405\n",
      "Iteration 51, loss = 0.49382895\n",
      "Iteration 52, loss = 0.48981125\n",
      "Iteration 53, loss = 0.48569876\n",
      "Iteration 54, loss = 0.48151403\n",
      "Iteration 55, loss = 0.47745458\n",
      "Iteration 56, loss = 0.47332364\n",
      "Iteration 57, loss = 0.46799709\n",
      "Iteration 58, loss = 0.46388596\n",
      "Iteration 59, loss = 0.46067703\n",
      "Iteration 60, loss = 0.45453253\n",
      "Iteration 61, loss = 0.44898958\n",
      "Iteration 62, loss = 0.44565149\n",
      "Iteration 63, loss = 0.44013388\n",
      "Iteration 64, loss = 0.43521652\n",
      "Iteration 65, loss = 0.43338662\n",
      "Iteration 66, loss = 0.42807450\n",
      "Iteration 67, loss = 0.42497803\n",
      "Iteration 68, loss = 0.42293927\n",
      "Iteration 69, loss = 0.41798936\n",
      "Iteration 70, loss = 0.41432612\n",
      "Iteration 71, loss = 0.41106289\n",
      "Iteration 72, loss = 0.40855280\n",
      "Iteration 73, loss = 0.40463798\n",
      "Iteration 74, loss = 0.40097651\n",
      "Iteration 75, loss = 0.39804803\n",
      "Iteration 76, loss = 0.39536811\n",
      "Iteration 77, loss = 0.39215488\n",
      "Iteration 78, loss = 0.38943418\n",
      "Iteration 79, loss = 0.38699900\n",
      "Iteration 80, loss = 0.38430199\n",
      "Iteration 81, loss = 0.38144312\n",
      "Iteration 82, loss = 0.37878974\n",
      "Iteration 83, loss = 0.37592311\n",
      "Iteration 84, loss = 0.37419652\n",
      "Iteration 85, loss = 0.37269963\n",
      "Iteration 86, loss = 0.36968034\n",
      "Iteration 87, loss = 0.36580608\n",
      "Iteration 88, loss = 0.36528648\n",
      "Iteration 89, loss = 0.36210789\n",
      "Iteration 90, loss = 0.35794165\n",
      "Iteration 91, loss = 0.35559289\n",
      "Iteration 92, loss = 0.35248307\n",
      "Iteration 93, loss = 0.35144785\n",
      "Iteration 94, loss = 0.34884979\n",
      "Iteration 95, loss = 0.34505727\n",
      "Iteration 96, loss = 0.34289201\n",
      "Iteration 97, loss = 0.33970316\n",
      "Iteration 98, loss = 0.33819095\n",
      "Iteration 99, loss = 0.33560919\n",
      "Iteration 100, loss = 0.33245541\n",
      "Iteration 101, loss = 0.33057294\n",
      "Iteration 102, loss = 0.32981612\n",
      "Iteration 103, loss = 0.32653788\n",
      "Iteration 104, loss = 0.32715302\n",
      "Iteration 105, loss = 0.32527553\n",
      "Iteration 106, loss = 0.32052687\n",
      "Iteration 107, loss = 0.31887037\n",
      "Iteration 108, loss = 0.32152919\n",
      "Iteration 109, loss = 0.31446327\n",
      "Iteration 110, loss = 0.31775675\n",
      "Iteration 111, loss = 0.31267864\n",
      "Iteration 112, loss = 0.31262672\n",
      "Iteration 113, loss = 0.30989725\n",
      "Iteration 114, loss = 0.30581159\n",
      "Iteration 115, loss = 0.30724703\n",
      "Iteration 116, loss = 0.30197598\n",
      "Iteration 117, loss = 0.30223573\n",
      "Iteration 118, loss = 0.29796061\n",
      "Iteration 119, loss = 0.29794319\n",
      "Iteration 120, loss = 0.29680582\n",
      "Iteration 121, loss = 0.29209428\n",
      "Iteration 122, loss = 0.29172955\n",
      "Iteration 123, loss = 0.28949983\n",
      "Iteration 124, loss = 0.28825511\n",
      "Iteration 125, loss = 0.28693801\n",
      "Iteration 126, loss = 0.28463718\n",
      "Iteration 127, loss = 0.28357570\n",
      "Iteration 128, loss = 0.28094355\n",
      "Iteration 129, loss = 0.27892151\n",
      "Iteration 130, loss = 0.27705622\n",
      "Iteration 131, loss = 0.27623379\n",
      "Iteration 132, loss = 0.27572362\n",
      "Iteration 133, loss = 0.27325709\n",
      "Iteration 134, loss = 0.27219388\n",
      "Iteration 135, loss = 0.27383739\n",
      "Iteration 136, loss = 0.26992390\n",
      "Iteration 137, loss = 0.27154081\n",
      "Iteration 138, loss = 0.27071193\n",
      "Iteration 139, loss = 0.26570732\n",
      "Iteration 140, loss = 0.26978454\n",
      "Iteration 141, loss = 0.26331838\n",
      "Iteration 142, loss = 0.26518929\n",
      "Iteration 143, loss = 0.26097104\n",
      "Iteration 144, loss = 0.26131063\n",
      "Iteration 145, loss = 0.25838720\n",
      "Iteration 146, loss = 0.25820255\n",
      "Iteration 147, loss = 0.26562351\n",
      "Iteration 148, loss = 0.25586305\n",
      "Iteration 149, loss = 0.26027213\n",
      "Iteration 150, loss = 0.25433296\n",
      "Iteration 151, loss = 0.25709567\n",
      "Iteration 152, loss = 0.25110279\n",
      "Iteration 153, loss = 0.25418604\n",
      "Iteration 154, loss = 0.24921134\n",
      "Iteration 155, loss = 0.25043057\n",
      "Iteration 156, loss = 0.24832302\n",
      "Iteration 157, loss = 0.24576438\n",
      "Iteration 158, loss = 0.24263873\n",
      "Iteration 159, loss = 0.24512266\n",
      "Iteration 160, loss = 0.24363793\n",
      "Iteration 161, loss = 0.24170015\n",
      "Iteration 162, loss = 0.24217912\n",
      "Iteration 163, loss = 0.23927934\n",
      "Iteration 164, loss = 0.23745452\n",
      "Iteration 165, loss = 0.23725199\n",
      "Iteration 166, loss = 0.23466402\n",
      "Iteration 167, loss = 0.23363648\n",
      "Iteration 168, loss = 0.23312758\n",
      "Iteration 169, loss = 0.23178815\n",
      "Iteration 170, loss = 0.23008696\n",
      "Iteration 171, loss = 0.23050819\n",
      "Iteration 172, loss = 0.22910481\n",
      "Iteration 173, loss = 0.22798152\n",
      "Iteration 174, loss = 0.22903845\n",
      "Iteration 175, loss = 0.22693597\n",
      "Iteration 176, loss = 0.22689186\n",
      "Iteration 177, loss = 0.22437080\n",
      "Iteration 178, loss = 0.22333414\n",
      "Iteration 179, loss = 0.22294694\n",
      "Iteration 180, loss = 0.22231453\n",
      "Iteration 181, loss = 0.22108220\n",
      "Iteration 182, loss = 0.22038750\n",
      "Iteration 183, loss = 0.21955908\n",
      "Iteration 184, loss = 0.21911178\n",
      "Iteration 185, loss = 0.21896375\n",
      "Iteration 186, loss = 0.21865806\n",
      "Iteration 187, loss = 0.21775368\n",
      "Iteration 188, loss = 0.21817835\n",
      "Iteration 189, loss = 0.21723532\n",
      "Iteration 190, loss = 0.21672400\n",
      "Iteration 191, loss = 0.21630470\n",
      "Iteration 192, loss = 0.21442808\n",
      "Iteration 193, loss = 0.21438873\n",
      "Iteration 194, loss = 0.21297960\n",
      "Iteration 195, loss = 0.21230885\n",
      "Iteration 196, loss = 0.21206553\n",
      "Iteration 197, loss = 0.21106319\n",
      "Iteration 198, loss = 0.21075169\n",
      "Iteration 199, loss = 0.21100849\n",
      "Iteration 200, loss = 0.20999638\n"
     ]
    },
    {
     "name": "stderr",
     "output_type": "stream",
     "text": [
      "/Users/thomastesselaar/opt/anaconda3/lib/python3.9/site-packages/sklearn/neural_network/_multilayer_perceptron.py:692: ConvergenceWarning: Stochastic Optimizer: Maximum iterations (200) reached and the optimization hasn't converged yet.\n",
      "  warnings.warn(\n"
     ]
    }
   ],
   "source": [
    "test_x, test_y, train_x, train_y = get_data()\n",
    "score, preds, test_y = predict(test_x, test_y, train_x, train_y)"
   ]
  },
  {
   "cell_type": "code",
   "execution_count": 36,
   "id": "fe07cd72",
   "metadata": {},
   "outputs": [
    {
     "name": "stdout",
     "output_type": "stream",
     "text": [
      "0.515625\n",
      "[ 1.  1. -1. -1. -1.  1.  1. -1. -1.  1.  1.  1. -1. -1.  1. -1.  1.  1.\n",
      "  1. -1. -1.  1.  1. -1. -1. -1. -1.  1.  1.  1.  1.  1.  1. -1.  1. -1.\n",
      "  1.  1.  1. -1. -1.  1.  1. -1. -1.  1. -1. -1.  1. -1. -1.  1.  1.  1.\n",
      "  1.  1.  1. -1.  1. -1. -1.  1. -1.  1.]\n",
      "[ 1. -1.  1. -1. -1.  1.  1.  1. -1.  1. -1.  1.  1.  1. -1. -1. -1.  1.\n",
      "  1. -1.  1. -1. -1.  1. -1.  1.  1. -1.  1.  1.  1. -1. -1. -1.  1. -1.\n",
      "  1.  1. -1. -1. -1.  1.  1. -1.  1. -1.  1. -1. -1.  1. -1.  1. -1. -1.\n",
      " -1.  1. -1. -1. -1.  1.  1.  1.  1.  1.]\n"
     ]
    }
   ],
   "source": [
    "print(score)\n",
    "print(preds)\n",
    "print(test_y)"
   ]
  },
  {
   "cell_type": "code",
   "execution_count": null,
   "id": "da0a4877",
   "metadata": {},
   "outputs": [],
   "source": []
  },
  {
   "cell_type": "code",
   "execution_count": null,
   "id": "49ec2cf7",
   "metadata": {},
   "outputs": [],
   "source": []
  },
  {
   "cell_type": "code",
   "execution_count": 5,
   "id": "0e175924",
   "metadata": {},
   "outputs": [
    {
     "data": {
      "text/plain": [
       "array([-1., -1.,  1., -1., -1., -1., -1., -1.,  1.,  1., -1., -1.,  1.,\n",
       "       -1.,  1., -1.,  1., -1.,  1.,  1.,  1., -1., -1., -1., -1., -1.,\n",
       "        1.,  1.,  1.,  1.,  1.,  1., -1.,  1.,  1.,  1.,  1., -1.,  1.,\n",
       "       -1.,  1.,  1.,  1.,  1., -1.,  1.,  1.,  1.,  1.,  1., -1.,  1.,\n",
       "       -1., -1.,  1., -1., -1.,  1.,  1.,  1., -1.,  1.,  1.,  1.])"
      ]
     },
     "execution_count": 5,
     "metadata": {},
     "output_type": "execute_result"
    }
   ],
   "source": [
    "test_y"
   ]
  },
  {
   "cell_type": "code",
   "execution_count": 6,
   "id": "a5e5308f",
   "metadata": {},
   "outputs": [
    {
     "data": {
      "text/plain": [
       "array([ 1., -1., -1.,  1.,  1.,  1.,  1., -1.,  1.,  1., -1.,  1.,  1.,\n",
       "        1.,  1.,  1., -1.,  1., -1., -1., -1., -1., -1., -1., -1., -1.,\n",
       "       -1.,  1., -1., -1., -1.,  1., -1.,  1.,  1.,  1.,  1.,  1.,  1.,\n",
       "       -1.,  1.,  1.,  1.,  1., -1., -1., -1.,  1., -1., -1., -1.,  1.,\n",
       "        1.,  1.,  1.,  1.,  1.,  1.,  1.,  1.,  1., -1.,  1.,  1.,  1.,\n",
       "        1.,  1., -1., -1.,  1., -1.,  1., -1.,  1., -1.,  1.,  1.,  1.,\n",
       "        1.,  1., -1.,  1., -1.,  1.,  1.,  1.,  1.,  1.,  1.,  1.,  1.,\n",
       "        1.,  1., -1., -1., -1.,  1.,  1.,  1.,  1.,  1.,  1.,  1.,  1.,\n",
       "        1.,  1.,  1., -1., -1., -1.,  1., -1.,  1.,  1.,  1., -1., -1.,\n",
       "       -1., -1., -1.,  1.,  1.,  1.,  1.,  1.,  1., -1.,  1., -1.,  1.,\n",
       "        1., -1., -1., -1.,  1.,  1.,  1.,  1., -1., -1.,  1.,  1., -1.,\n",
       "        1.,  1.,  1., -1.,  1.,  1., -1., -1., -1., -1., -1., -1., -1.,\n",
       "       -1., -1., -1., -1., -1., -1.,  1., -1., -1.,  1., -1.,  1.,  1.,\n",
       "        1.,  1.,  1., -1., -1., -1., -1., -1.,  1., -1.,  1.,  1., -1.,\n",
       "        1.,  1., -1., -1., -1., -1., -1., -1.,  1.,  1.,  1.,  1.])"
      ]
     },
     "execution_count": 6,
     "metadata": {},
     "output_type": "execute_result"
    }
   ],
   "source": [
    "train_y"
   ]
  },
  {
   "cell_type": "code",
   "execution_count": 37,
   "id": "3785c808",
   "metadata": {},
   "outputs": [],
   "source": [
    "x = [-1., -1.,  1., -1., -1., -1., -1., -1.,  1.,  1., -1., -1.,  1.,\n",
    "       -1.,  1., -1.,  1., -1.,  1.,  1.,  1., -1., -1., -1., -1., -1.,\n",
    "        1.,  1.,  1.,  1.,  1.,  1., -1.,  1.,  1.,  1.,  1., -1.,  1.,\n",
    "       -1.,  1.,  1.,  1.,  1., -1.,  1.,  1.,  1.,  1.,  1., -1.,  1.,\n",
    "       -1., -1.,  1., -1., -1.,  1.,  1.,  1., -1.,  1.,  1.,  1.]\n",
    "y = [ 1., -1., -1.,  1.,  1.,  1.,  1., -1.,  1.,  1., -1.,  1.,  1.,\n",
    "        1.,  1.,  1., -1.,  1., -1., -1., -1., -1., -1., -1., -1., -1.,\n",
    "       -1.,  1., -1., -1., -1.,  1., -1.,  1.,  1.,  1.,  1.,  1.,  1.,\n",
    "       -1.,  1.,  1.,  1.,  1., -1., -1., -1.,  1., -1., -1., -1.,  1.,\n",
    "        1.,  1.,  1.,  1.,  1.,  1.,  1.,  1.,  1., -1.,  1.,  1.,  1.,\n",
    "        1.,  1., -1., -1.,  1., -1.,  1., -1.,  1., -1.,  1.,  1.,  1.,\n",
    "        1.,  1., -1.,  1., -1.,  1.,  1.,  1.,  1.,  1.,  1.,  1.,  1.,\n",
    "        1.,  1., -1., -1., -1.,  1.,  1.,  1.,  1.,  1.,  1.,  1.,  1.,\n",
    "        1.,  1.,  1., -1., -1., -1.,  1., -1.,  1.,  1.,  1., -1., -1.,\n",
    "       -1., -1., -1.,  1.,  1.,  1.,  1.,  1.,  1., -1.,  1., -1.,  1.,\n",
    "        1., -1., -1., -1.,  1.,  1.,  1.,  1., -1., -1.,  1.,  1., -1.,\n",
    "        1.,  1.,  1., -1.,  1.,  1., -1., -1., -1., -1., -1., -1., -1.,\n",
    "       -1., -1., -1., -1., -1., -1.,  1., -1., -1.,  1., -1.,  1.,  1.,\n",
    "        1.,  1.,  1., -1., -1., -1., -1., -1.,  1., -1.,  1.,  1., -1.,\n",
    "        1.,  1., -1., -1., -1., -1., -1., -1.,  1.,  1.,  1.,  1.]"
   ]
  },
  {
   "cell_type": "code",
   "execution_count": 8,
   "id": "3aa2c07b",
   "metadata": {},
   "outputs": [
    {
     "name": "stdout",
     "output_type": "stream",
     "text": [
      "0.5736434108527132\n"
     ]
    }
   ],
   "source": [
    "print((x.count(1) + y.count(1))/(len(x) + len(y)))"
   ]
  },
  {
   "cell_type": "code",
   "execution_count": 11,
   "id": "a3d7a7af",
   "metadata": {},
   "outputs": [],
   "source": [
    "z = preds + test_y"
   ]
  },
  {
   "cell_type": "code",
   "execution_count": 16,
   "id": "fcfc5d51",
   "metadata": {},
   "outputs": [],
   "source": [
    "z = z.tolist()\n",
    "test_y = test_y.tolist()\n",
    "preds = preds.tolist()"
   ]
  },
  {
   "cell_type": "code",
   "execution_count": 17,
   "id": "aaf609f6",
   "metadata": {},
   "outputs": [
    {
     "name": "stdout",
     "output_type": "stream",
     "text": [
      "0.7647058823529411\n"
     ]
    }
   ],
   "source": [
    "print(z.count(2)/test_y.count(1))"
   ]
  },
  {
   "cell_type": "code",
   "execution_count": 18,
   "id": "9da4ef89",
   "metadata": {},
   "outputs": [
    {
     "name": "stdout",
     "output_type": "stream",
     "text": [
      "0.6341463414634146\n"
     ]
    }
   ],
   "source": [
    "print(z.count(2)/preds.count(1))"
   ]
  },
  {
   "cell_type": "code",
   "execution_count": 42,
   "id": "44d4da2d",
   "metadata": {},
   "outputs": [
    {
     "data": {
      "text/plain": [
       "27"
      ]
     },
     "execution_count": 42,
     "metadata": {},
     "output_type": "execute_result"
    }
   ],
   "source": [
    "x.count(-1)"
   ]
  },
  {
   "cell_type": "code",
   "execution_count": 48,
   "id": "b5b825b6",
   "metadata": {},
   "outputs": [
    {
     "data": {
      "text/plain": [
       "0.6216216216216216"
      ]
     },
     "execution_count": 48,
     "metadata": {},
     "output_type": "execute_result"
    }
   ],
   "source": [
    "23/37"
   ]
  },
  {
   "cell_type": "code",
   "execution_count": 46,
   "id": "c3775cd3",
   "metadata": {},
   "outputs": [
    {
     "data": {
      "text/plain": [
       "0.6363636363636364"
      ]
     },
     "execution_count": 46,
     "metadata": {},
     "output_type": "execute_result"
    }
   ],
   "source": [
    "28/(28+16)"
   ]
  },
  {
   "cell_type": "code",
   "execution_count": 49,
   "id": "45ddb3d6",
   "metadata": {},
   "outputs": [
    {
     "data": {
      "text/plain": [
       "0.4074074074074074"
      ]
     },
     "execution_count": 49,
     "metadata": {},
     "output_type": "execute_result"
    }
   ],
   "source": [
    "11/27"
   ]
  },
  {
   "cell_type": "code",
   "execution_count": null,
   "id": "0e187315",
   "metadata": {},
   "outputs": [],
   "source": []
  }
 ],
 "metadata": {
  "kernelspec": {
   "display_name": "Python 3 (ipykernel)",
   "language": "python",
   "name": "python3"
  },
  "language_info": {
   "codemirror_mode": {
    "name": "ipython",
    "version": 3
   },
   "file_extension": ".py",
   "mimetype": "text/x-python",
   "name": "python",
   "nbconvert_exporter": "python",
   "pygments_lexer": "ipython3",
   "version": "3.9.7"
  }
 },
 "nbformat": 4,
 "nbformat_minor": 5
}
