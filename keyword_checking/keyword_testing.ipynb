{
 "cells": [
  {
   "cell_type": "code",
   "execution_count": 1,
   "id": "6da80583",
   "metadata": {},
   "outputs": [],
   "source": [
    "import pandas as pd\n",
    "import sys\n",
    "sys.path.append(\"../DataPreprocessing\")\n",
    "from data_preprocessing import *"
   ]
  },
  {
   "cell_type": "code",
   "execution_count": 2,
   "id": "78429366",
   "metadata": {},
   "outputs": [],
   "source": [
    "stock_name = 'TSLA'\n",
    "n = 12\n",
    "search_names = ['Term' + str(i) for i in range(1,n+1)]"
   ]
  },
  {
   "cell_type": "code",
   "execution_count": 3,
   "id": "999287b9",
   "metadata": {},
   "outputs": [
    {
     "data": {
      "text/html": [
       "<div>\n",
       "<style scoped>\n",
       "    .dataframe tbody tr th:only-of-type {\n",
       "        vertical-align: middle;\n",
       "    }\n",
       "\n",
       "    .dataframe tbody tr th {\n",
       "        vertical-align: top;\n",
       "    }\n",
       "\n",
       "    .dataframe thead th {\n",
       "        text-align: right;\n",
       "    }\n",
       "</style>\n",
       "<table border=\"1\" class=\"dataframe\">\n",
       "  <thead>\n",
       "    <tr style=\"text-align: right;\">\n",
       "      <th></th>\n",
       "      <th>Week</th>\n",
       "      <th>Date</th>\n",
       "      <th>Adj Close</th>\n",
       "      <th>Volume</th>\n",
       "      <th>sf_0</th>\n",
       "      <th>sf_1</th>\n",
       "      <th>sf_2</th>\n",
       "      <th>sf_3</th>\n",
       "      <th>sf_4</th>\n",
       "      <th>sf_5</th>\n",
       "      <th>sf_6</th>\n",
       "      <th>sf_7</th>\n",
       "      <th>sf_8</th>\n",
       "      <th>sf_9</th>\n",
       "      <th>sf_10</th>\n",
       "      <th>sf_11</th>\n",
       "    </tr>\n",
       "  </thead>\n",
       "  <tbody>\n",
       "    <tr>\n",
       "      <th>0</th>\n",
       "      <td>2013-02-17</td>\n",
       "      <td>2013-02-25</td>\n",
       "      <td>2.310000</td>\n",
       "      <td>166845000</td>\n",
       "      <td>92</td>\n",
       "      <td>2</td>\n",
       "      <td>38</td>\n",
       "      <td>13</td>\n",
       "      <td>65</td>\n",
       "      <td>51</td>\n",
       "      <td>40</td>\n",
       "      <td>8</td>\n",
       "      <td>44</td>\n",
       "      <td>81</td>\n",
       "      <td>4</td>\n",
       "      <td>69</td>\n",
       "    </tr>\n",
       "    <tr>\n",
       "      <th>1</th>\n",
       "      <td>2013-02-24</td>\n",
       "      <td>2013-03-04</td>\n",
       "      <td>2.564667</td>\n",
       "      <td>105976500</td>\n",
       "      <td>85</td>\n",
       "      <td>2</td>\n",
       "      <td>39</td>\n",
       "      <td>10</td>\n",
       "      <td>66</td>\n",
       "      <td>46</td>\n",
       "      <td>36</td>\n",
       "      <td>10</td>\n",
       "      <td>45</td>\n",
       "      <td>82</td>\n",
       "      <td>5</td>\n",
       "      <td>67</td>\n",
       "    </tr>\n",
       "    <tr>\n",
       "      <th>2</th>\n",
       "      <td>2013-03-03</td>\n",
       "      <td>2013-03-11</td>\n",
       "      <td>2.352667</td>\n",
       "      <td>134658000</td>\n",
       "      <td>90</td>\n",
       "      <td>2</td>\n",
       "      <td>37</td>\n",
       "      <td>10</td>\n",
       "      <td>68</td>\n",
       "      <td>56</td>\n",
       "      <td>36</td>\n",
       "      <td>9</td>\n",
       "      <td>53</td>\n",
       "      <td>85</td>\n",
       "      <td>4</td>\n",
       "      <td>66</td>\n",
       "    </tr>\n",
       "    <tr>\n",
       "      <th>3</th>\n",
       "      <td>2013-03-10</td>\n",
       "      <td>2013-03-18</td>\n",
       "      <td>2.441333</td>\n",
       "      <td>81361500</td>\n",
       "      <td>89</td>\n",
       "      <td>2</td>\n",
       "      <td>35</td>\n",
       "      <td>14</td>\n",
       "      <td>67</td>\n",
       "      <td>62</td>\n",
       "      <td>38</td>\n",
       "      <td>7</td>\n",
       "      <td>45</td>\n",
       "      <td>82</td>\n",
       "      <td>4</td>\n",
       "      <td>42</td>\n",
       "    </tr>\n",
       "    <tr>\n",
       "      <th>4</th>\n",
       "      <td>2013-03-17</td>\n",
       "      <td>2013-03-25</td>\n",
       "      <td>2.526000</td>\n",
       "      <td>99630000</td>\n",
       "      <td>88</td>\n",
       "      <td>2</td>\n",
       "      <td>37</td>\n",
       "      <td>12</td>\n",
       "      <td>71</td>\n",
       "      <td>47</td>\n",
       "      <td>40</td>\n",
       "      <td>6</td>\n",
       "      <td>46</td>\n",
       "      <td>82</td>\n",
       "      <td>4</td>\n",
       "      <td>78</td>\n",
       "    </tr>\n",
       "  </tbody>\n",
       "</table>\n",
       "</div>"
      ],
      "text/plain": [
       "         Week        Date  Adj Close     Volume  sf_0  sf_1 sf_2  sf_3  sf_4  \\\n",
       "0  2013-02-17  2013-02-25   2.310000  166845000    92     2   38    13    65   \n",
       "1  2013-02-24  2013-03-04   2.564667  105976500    85     2   39    10    66   \n",
       "2  2013-03-03  2013-03-11   2.352667  134658000    90     2   37    10    68   \n",
       "3  2013-03-10  2013-03-18   2.441333   81361500    89     2   35    14    67   \n",
       "4  2013-03-17  2013-03-25   2.526000   99630000    88     2   37    12    71   \n",
       "\n",
       "   sf_5  sf_6  sf_7  sf_8  sf_9  sf_10  sf_11  \n",
       "0    51    40     8    44    81      4     69  \n",
       "1    46    36    10    45    82      5     67  \n",
       "2    56    36     9    53    85      4     66  \n",
       "3    62    38     7    45    82      4     42  \n",
       "4    47    40     6    46    82      4     78  "
      ]
     },
     "metadata": {},
     "output_type": "display_data"
    }
   ],
   "source": [
    "main_df = merge_csv(stock_name, search_names, pathname = '/Users/thomastesselaar/Projects/QMIND2022/keyword_checking/', \n",
    "                    stock_rows_to_drop=[0,1,522], search_suffix = '')"
   ]
  },
  {
   "cell_type": "code",
   "execution_count": 4,
   "id": "537125f8",
   "metadata": {
    "scrolled": true
   },
   "outputs": [],
   "source": [
    "corr = []\n",
    "main_df = main_df.astype({'Adj Close': 'float16'})\n",
    "for i in range(n):\n",
    "    main_df = main_df.astype({'sf_' + str(i): 'int32'})\n",
    "    a = measure_correlation(main_df, ['Adj Close', 'sf_' + str(i)])\n",
    "    b = measure_correlation2(main_df, ['Adj Close', 'sf_' + str(i)])\n",
    "    score = ((2*abs(a-0.5))**2 + abs(b)**2)**(1/2)\n",
    "    corr.append([a,b,score,i])"
   ]
  },
  {
   "cell_type": "code",
   "execution_count": 5,
   "id": "12db8e6a",
   "metadata": {},
   "outputs": [],
   "source": [
    "corr = sorted(corr, key = lambda x: x[2], reverse = True)"
   ]
  },
  {
   "cell_type": "code",
   "execution_count": 6,
   "id": "1f4f6177",
   "metadata": {},
   "outputs": [
    {
     "data": {
      "text/plain": [
       "[[0.44701348747591524, 0.6760856115054485, 0.6843405848863242, 3],\n",
       " [0.3853564547206166, 0.6329613542433318, 0.6732106994563118, 10],\n",
       " [0.3236994219653179, 0.4279098045341383, 0.5544676510653228, 1],\n",
       " [0.4605009633911368, 0.5485147053791242, 0.554174230354733, 6],\n",
       " [0.4123314065510597, 0.4633606708322105, 0.4954253126187018, 0],\n",
       " [0.3737957610789981, -0.3011615289671332, 0.3929482233276272, 2],\n",
       " [0.4238921001926782, -0.2704007592962558, 0.31030020992631796, 8],\n",
       " [0.45664739884393063, -0.29333745006222084, 0.3058833956215911, 9],\n",
       " [0.3853564547206166, 0.052533110542833966, 0.2352281819855133, 7],\n",
       " [0.4720616570327553, 0.22003556863215132, 0.2270195046560884, 4],\n",
       " [0.4662813102119461, 0.1607278911844728, 0.17430219496236923, 5],\n",
       " [0.4662813102119461, 0.1599232606024229, 0.17356050658431058, 11]]"
      ]
     },
     "execution_count": 6,
     "metadata": {},
     "output_type": "execute_result"
    }
   ],
   "source": [
    "corr"
   ]
  },
  {
   "cell_type": "code",
   "execution_count": null,
   "id": "5a1335b4",
   "metadata": {},
   "outputs": [],
   "source": [
    "[3,10,1,6,0,2,7]"
   ]
  }
 ],
 "metadata": {
  "kernelspec": {
   "display_name": "Python 3 (ipykernel)",
   "language": "python",
   "name": "python3"
  },
  "language_info": {
   "codemirror_mode": {
    "name": "ipython",
    "version": 3
   },
   "file_extension": ".py",
   "mimetype": "text/x-python",
   "name": "python",
   "nbconvert_exporter": "python",
   "pygments_lexer": "ipython3",
   "version": "3.9.7"
  }
 },
 "nbformat": 4,
 "nbformat_minor": 5
}
