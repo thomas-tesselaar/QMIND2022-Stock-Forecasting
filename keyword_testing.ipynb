{
 "cells": [
  {
   "cell_type": "code",
   "execution_count": 1,
   "id": "6da80583",
   "metadata": {},
   "outputs": [],
   "source": [
    "import pandas as pd\n",
    "import sys\n",
    "sys.path.append(\"../DataPreprocessing\")\n",
    "from data_preprocessing import *"
   ]
  },
  {
   "cell_type": "code",
   "execution_count": 2,
   "id": "78429366",
   "metadata": {},
   "outputs": [],
   "source": [
    "stock_name = 'TSLA'\n",
    "search_names = ['multiTimeline-' + str(i) for i in range(1,11)]"
   ]
  },
  {
   "cell_type": "code",
   "execution_count": 3,
   "id": "999287b9",
   "metadata": {},
   "outputs": [
    {
     "data": {
      "text/html": [
       "<div>\n",
       "<style scoped>\n",
       "    .dataframe tbody tr th:only-of-type {\n",
       "        vertical-align: middle;\n",
       "    }\n",
       "\n",
       "    .dataframe tbody tr th {\n",
       "        vertical-align: top;\n",
       "    }\n",
       "\n",
       "    .dataframe thead th {\n",
       "        text-align: right;\n",
       "    }\n",
       "</style>\n",
       "<table border=\"1\" class=\"dataframe\">\n",
       "  <thead>\n",
       "    <tr style=\"text-align: right;\">\n",
       "      <th></th>\n",
       "      <th>Week</th>\n",
       "      <th>Date</th>\n",
       "      <th>Adj Close</th>\n",
       "      <th>Volume</th>\n",
       "      <th>sf_0</th>\n",
       "      <th>sf_1</th>\n",
       "      <th>sf_2</th>\n",
       "      <th>sf_3</th>\n",
       "      <th>sf_4</th>\n",
       "      <th>sf_5</th>\n",
       "      <th>sf_6</th>\n",
       "      <th>sf_7</th>\n",
       "      <th>sf_8</th>\n",
       "      <th>sf_9</th>\n",
       "    </tr>\n",
       "  </thead>\n",
       "  <tbody>\n",
       "    <tr>\n",
       "      <th>0</th>\n",
       "      <td>2018-02-11</td>\n",
       "      <td>2018-02-19</td>\n",
       "      <td>41.890827</td>\n",
       "      <td>544825600</td>\n",
       "      <td>25</td>\n",
       "      <td>56</td>\n",
       "      <td>19</td>\n",
       "      <td>74</td>\n",
       "      <td>62</td>\n",
       "      <td>62</td>\n",
       "      <td>62</td>\n",
       "      <td>12</td>\n",
       "      <td>18</td>\n",
       "      <td>50</td>\n",
       "    </tr>\n",
       "    <tr>\n",
       "      <th>1</th>\n",
       "      <td>2018-02-18</td>\n",
       "      <td>2018-02-26</td>\n",
       "      <td>42.060303</td>\n",
       "      <td>808513600</td>\n",
       "      <td>25</td>\n",
       "      <td>57</td>\n",
       "      <td>15</td>\n",
       "      <td>76</td>\n",
       "      <td>59</td>\n",
       "      <td>63</td>\n",
       "      <td>59</td>\n",
       "      <td>11</td>\n",
       "      <td>24</td>\n",
       "      <td>37</td>\n",
       "    </tr>\n",
       "    <tr>\n",
       "      <th>2</th>\n",
       "      <td>2018-02-25</td>\n",
       "      <td>2018-03-05</td>\n",
       "      <td>42.960182</td>\n",
       "      <td>559410800</td>\n",
       "      <td>25</td>\n",
       "      <td>57</td>\n",
       "      <td>13</td>\n",
       "      <td>76</td>\n",
       "      <td>61</td>\n",
       "      <td>61</td>\n",
       "      <td>60</td>\n",
       "      <td>13</td>\n",
       "      <td>29</td>\n",
       "      <td>0</td>\n",
       "    </tr>\n",
       "    <tr>\n",
       "      <th>3</th>\n",
       "      <td>2018-03-04</td>\n",
       "      <td>2018-03-12</td>\n",
       "      <td>42.492336</td>\n",
       "      <td>621670000</td>\n",
       "      <td>24</td>\n",
       "      <td>57</td>\n",
       "      <td>16</td>\n",
       "      <td>80</td>\n",
       "      <td>59</td>\n",
       "      <td>62</td>\n",
       "      <td>57</td>\n",
       "      <td>13</td>\n",
       "      <td>18</td>\n",
       "      <td>62</td>\n",
       "    </tr>\n",
       "    <tr>\n",
       "      <th>4</th>\n",
       "      <td>2018-03-11</td>\n",
       "      <td>2018-03-19</td>\n",
       "      <td>39.370228</td>\n",
       "      <td>690682800</td>\n",
       "      <td>25</td>\n",
       "      <td>55</td>\n",
       "      <td>16</td>\n",
       "      <td>78</td>\n",
       "      <td>60</td>\n",
       "      <td>65</td>\n",
       "      <td>57</td>\n",
       "      <td>14</td>\n",
       "      <td>41</td>\n",
       "      <td>19</td>\n",
       "    </tr>\n",
       "  </tbody>\n",
       "</table>\n",
       "</div>"
      ],
      "text/plain": [
       "         Week        Date  Adj Close     Volume  sf_0  sf_1  sf_2  sf_3  sf_4  \\\n",
       "0  2018-02-11  2018-02-19  41.890827  544825600    25    56    19    74    62   \n",
       "1  2018-02-18  2018-02-26  42.060303  808513600    25    57    15    76    59   \n",
       "2  2018-02-25  2018-03-05  42.960182  559410800    25    57    13    76    61   \n",
       "3  2018-03-04  2018-03-12  42.492336  621670000    24    57    16    80    59   \n",
       "4  2018-03-11  2018-03-19  39.370228  690682800    25    55    16    78    60   \n",
       "\n",
       "   sf_5  sf_6  sf_7  sf_8  sf_9  \n",
       "0    62    62    12    18    50  \n",
       "1    63    59    11    24    37  \n",
       "2    61    60    13    29     0  \n",
       "3    62    57    13    18    62  \n",
       "4    65    57    14    41    19  "
      ]
     },
     "metadata": {},
     "output_type": "display_data"
    }
   ],
   "source": [
    "main_df = merge_csv(stock_name, search_names, pathname = '/Users/thomastesselaar/Projects/QMIND2022/keyword_checking/', \n",
    "                    stock_rows_to_drop=[0,1,261], search_suffix = '')"
   ]
  },
  {
   "cell_type": "code",
   "execution_count": 4,
   "id": "537125f8",
   "metadata": {
    "scrolled": true
   },
   "outputs": [],
   "source": [
    "corr = []\n",
    "for i in range(10):\n",
    "    a = measure_correlation(main_df, ['Adj Close', 'sf_' + str(i)])\n",
    "    b = measure_correlation2(main_df, ['Adj Close', 'sf_' + str(i)])\n",
    "    score = ((2*abs(a-0.5))**2 + abs(b)**2)**(1/2)\n",
    "    corr.append([a,b,score,i])"
   ]
  },
  {
   "cell_type": "code",
   "execution_count": 5,
   "id": "12db8e6a",
   "metadata": {},
   "outputs": [],
   "source": [
    "corr = sorted(corr, key = lambda x: x[2], reverse = True)"
   ]
  },
  {
   "cell_type": "code",
   "execution_count": 6,
   "id": "1f4f6177",
   "metadata": {},
   "outputs": [
    {
     "data": {
      "text/plain": [
       "[[0.4069767441860465, 0.703278101719074, 0.7274705443153675, 4],\n",
       " [0.32558139534883723, 0.12433010054927868, 0.3703314360089192, 0],\n",
       " [0.40310077519379844, 0.3061985188531303, 0.36237462938238646, 6],\n",
       " [0.3488372093023256, 0.049404737056886236, 0.30633573936074737, 8],\n",
       " [0.41472868217054265, 0.2253274586784088, 0.28259025852275826, 5],\n",
       " [0.4186046511627907, 0.1753866356520028, 0.2392932995607113, 1],\n",
       " [0.3953488372093023, -0.10686981771193657, 0.2350077050472239, 3],\n",
       " [0.47674418604651164, 0.20742230495587305, 0.21257315005372682, 2],\n",
       " [0.4069767441860465, -0.07860229869624008, 0.20196936859149178, 7],\n",
       " [0.5038759689922481, 0.10040310113012109, 0.1007019128868007, 9]]"
      ]
     },
     "execution_count": 6,
     "metadata": {},
     "output_type": "execute_result"
    }
   ],
   "source": [
    "corr"
   ]
  },
  {
   "cell_type": "code",
   "execution_count": null,
   "id": "5a1335b4",
   "metadata": {},
   "outputs": [],
   "source": [
    "[3,1,0,6,4,5,2]"
   ]
  }
 ],
 "metadata": {
  "kernelspec": {
   "display_name": "Python 3 (ipykernel)",
   "language": "python",
   "name": "python3"
  },
  "language_info": {
   "codemirror_mode": {
    "name": "ipython",
    "version": 3
   },
   "file_extension": ".py",
   "mimetype": "text/x-python",
   "name": "python",
   "nbconvert_exporter": "python",
   "pygments_lexer": "ipython3",
   "version": "3.9.7"
  }
 },
 "nbformat": 4,
 "nbformat_minor": 5
}
