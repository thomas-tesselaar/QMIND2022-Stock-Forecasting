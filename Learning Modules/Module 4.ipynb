{
 "cells": [
  {
   "cell_type": "markdown",
   "id": "fc888ab3",
   "metadata": {},
   "source": [
    "# Module 4\n",
    "The final module goes through an example of building a simple neural network, on the same wine quality dataset as before. Specifically, it will build a multi-layer perceptron.<br>\n",
    "There are many resources that will come up if you google 'neural networks' or 'artificial neural networks' that can explain more concisely and in more detail than I can. The key takeaways are that it takes in an input vector, feeds it through a layer (or layers) of multiplication by a whole pile of weights, and outputs a score for each possible outcome for how likely it thinks it is. It learns by making the weights and adjusting them based on whether each guess is correct.<br>\n",
    "To execute the following code, make sure you are running the latest version of tensorflow, numpy, and scipy"
   ]
  },
  {
   "cell_type": "code",
   "execution_count": 1,
   "id": "421646e5",
   "metadata": {},
   "outputs": [],
   "source": [
    "import pandas as pd\n",
    "import numpy as np\n",
    "from tensorflow.keras.models import Sequential\n",
    "from tensorflow.keras.layers import Flatten\n",
    "from tensorflow.keras.layers import Dense\n",
    "from tensorflow.keras.layers import Activation"
   ]
  },
  {
   "cell_type": "code",
   "execution_count": 2,
   "id": "448d4256",
   "metadata": {},
   "outputs": [
    {
     "data": {
      "text/html": [
       "<div>\n",
       "<style scoped>\n",
       "    .dataframe tbody tr th:only-of-type {\n",
       "        vertical-align: middle;\n",
       "    }\n",
       "\n",
       "    .dataframe tbody tr th {\n",
       "        vertical-align: top;\n",
       "    }\n",
       "\n",
       "    .dataframe thead th {\n",
       "        text-align: right;\n",
       "    }\n",
       "</style>\n",
       "<table border=\"1\" class=\"dataframe\">\n",
       "  <thead>\n",
       "    <tr style=\"text-align: right;\">\n",
       "      <th></th>\n",
       "      <th>fixed acidity</th>\n",
       "      <th>volatile acidity</th>\n",
       "      <th>citric acid</th>\n",
       "      <th>residual sugar</th>\n",
       "      <th>chlorides</th>\n",
       "      <th>free sulfur dioxide</th>\n",
       "      <th>total sulfur dioxide</th>\n",
       "      <th>density</th>\n",
       "      <th>pH</th>\n",
       "      <th>sulphates</th>\n",
       "      <th>alcohol</th>\n",
       "      <th>quality</th>\n",
       "      <th>Id</th>\n",
       "    </tr>\n",
       "  </thead>\n",
       "  <tbody>\n",
       "    <tr>\n",
       "      <th>0</th>\n",
       "      <td>7.4</td>\n",
       "      <td>0.70</td>\n",
       "      <td>0.00</td>\n",
       "      <td>1.9</td>\n",
       "      <td>0.076</td>\n",
       "      <td>11.0</td>\n",
       "      <td>34.0</td>\n",
       "      <td>0.9978</td>\n",
       "      <td>3.51</td>\n",
       "      <td>0.56</td>\n",
       "      <td>9.4</td>\n",
       "      <td>5</td>\n",
       "      <td>0</td>\n",
       "    </tr>\n",
       "    <tr>\n",
       "      <th>1</th>\n",
       "      <td>7.8</td>\n",
       "      <td>0.88</td>\n",
       "      <td>0.00</td>\n",
       "      <td>2.6</td>\n",
       "      <td>0.098</td>\n",
       "      <td>25.0</td>\n",
       "      <td>67.0</td>\n",
       "      <td>0.9968</td>\n",
       "      <td>3.20</td>\n",
       "      <td>0.68</td>\n",
       "      <td>9.8</td>\n",
       "      <td>5</td>\n",
       "      <td>1</td>\n",
       "    </tr>\n",
       "    <tr>\n",
       "      <th>2</th>\n",
       "      <td>7.8</td>\n",
       "      <td>0.76</td>\n",
       "      <td>0.04</td>\n",
       "      <td>2.3</td>\n",
       "      <td>0.092</td>\n",
       "      <td>15.0</td>\n",
       "      <td>54.0</td>\n",
       "      <td>0.9970</td>\n",
       "      <td>3.26</td>\n",
       "      <td>0.65</td>\n",
       "      <td>9.8</td>\n",
       "      <td>5</td>\n",
       "      <td>2</td>\n",
       "    </tr>\n",
       "    <tr>\n",
       "      <th>3</th>\n",
       "      <td>11.2</td>\n",
       "      <td>0.28</td>\n",
       "      <td>0.56</td>\n",
       "      <td>1.9</td>\n",
       "      <td>0.075</td>\n",
       "      <td>17.0</td>\n",
       "      <td>60.0</td>\n",
       "      <td>0.9980</td>\n",
       "      <td>3.16</td>\n",
       "      <td>0.58</td>\n",
       "      <td>9.8</td>\n",
       "      <td>6</td>\n",
       "      <td>3</td>\n",
       "    </tr>\n",
       "    <tr>\n",
       "      <th>4</th>\n",
       "      <td>7.4</td>\n",
       "      <td>0.70</td>\n",
       "      <td>0.00</td>\n",
       "      <td>1.9</td>\n",
       "      <td>0.076</td>\n",
       "      <td>11.0</td>\n",
       "      <td>34.0</td>\n",
       "      <td>0.9978</td>\n",
       "      <td>3.51</td>\n",
       "      <td>0.56</td>\n",
       "      <td>9.4</td>\n",
       "      <td>5</td>\n",
       "      <td>4</td>\n",
       "    </tr>\n",
       "  </tbody>\n",
       "</table>\n",
       "</div>"
      ],
      "text/plain": [
       "   fixed acidity  volatile acidity  citric acid  residual sugar  chlorides  \\\n",
       "0            7.4              0.70         0.00             1.9      0.076   \n",
       "1            7.8              0.88         0.00             2.6      0.098   \n",
       "2            7.8              0.76         0.04             2.3      0.092   \n",
       "3           11.2              0.28         0.56             1.9      0.075   \n",
       "4            7.4              0.70         0.00             1.9      0.076   \n",
       "\n",
       "   free sulfur dioxide  total sulfur dioxide  density    pH  sulphates  \\\n",
       "0                 11.0                  34.0   0.9978  3.51       0.56   \n",
       "1                 25.0                  67.0   0.9968  3.20       0.68   \n",
       "2                 15.0                  54.0   0.9970  3.26       0.65   \n",
       "3                 17.0                  60.0   0.9980  3.16       0.58   \n",
       "4                 11.0                  34.0   0.9978  3.51       0.56   \n",
       "\n",
       "   alcohol  quality  Id  \n",
       "0      9.4        5   0  \n",
       "1      9.8        5   1  \n",
       "2      9.8        5   2  \n",
       "3      9.8        6   3  \n",
       "4      9.4        5   4  "
      ]
     },
     "execution_count": 2,
     "metadata": {},
     "output_type": "execute_result"
    }
   ],
   "source": [
    "df = pd.read_csv(\"WineQT.csv\")\n",
    "df.head()"
   ]
  },
  {
   "cell_type": "code",
   "execution_count": 3,
   "id": "8a104e44",
   "metadata": {},
   "outputs": [],
   "source": [
    "df[\"quality\"] -= 3 #Setting values to start at 0\n",
    "test_df = df.sample(frac=(2/10))\n",
    "train_df = df.drop(test_df.index)"
   ]
  },
  {
   "cell_type": "code",
   "execution_count": 4,
   "id": "36440e03",
   "metadata": {
    "scrolled": false
   },
   "outputs": [],
   "source": [
    "# This is the most commonly used notation for your data. X is your inputs and Y is the output, \n",
    "# or what you are trying to predict. '_train' refers to the training data, and '_val' to the\n",
    "# test/validation data\n",
    "X_train = train_df.drop(['quality', 'Id'], axis=1).to_numpy()\n",
    "X_val = test_df.drop(['quality', 'Id'], axis=1).to_numpy()\n",
    "\n",
    "y_train = train_df['quality'].to_numpy()\n",
    "y_val = test_df['quality'].to_numpy()"
   ]
  },
  {
   "cell_type": "code",
   "execution_count": 5,
   "id": "be591c28",
   "metadata": {},
   "outputs": [
    {
     "name": "stderr",
     "output_type": "stream",
     "text": [
      "2022-10-21 10:11:13.486114: I tensorflow/core/platform/cpu_feature_guard.cc:193] This TensorFlow binary is optimized with oneAPI Deep Neural Network Library (oneDNN) to use the following CPU instructions in performance-critical operations:  SSE4.1 SSE4.2\n",
      "To enable them in other operations, rebuild TensorFlow with the appropriate compiler flags.\n"
     ]
    }
   ],
   "source": [
    "# Buliding the model. This is set to only one layer with 121 perceptron\n",
    "model = Sequential([\n",
    "    \n",
    "    # dense layer 1\n",
    "    Dense(121, activation='sigmoid'),  \n",
    "    \n",
    "    # output layer\n",
    "    Dense(6, activation='sigmoid'),  \n",
    "])"
   ]
  },
  {
   "cell_type": "code",
   "execution_count": 6,
   "id": "ee41457d",
   "metadata": {},
   "outputs": [],
   "source": [
    "# Compiles the model\n",
    "model.compile(optimizer='adam',\n",
    "      loss='sparse_categorical_crossentropy',\n",
    "      metrics=['accuracy'])"
   ]
  },
  {
   "cell_type": "code",
   "execution_count": 7,
   "id": "c0ddd464",
   "metadata": {},
   "outputs": [
    {
     "name": "stdout",
     "output_type": "stream",
     "text": [
      "Epoch 1/10\n",
      "23/23 [==============================] - 0s 5ms/step - loss: 1.5267 - accuracy: 0.4118 - val_loss: 1.1576 - val_accuracy: 0.4809\n",
      "Epoch 2/10\n",
      "23/23 [==============================] - 0s 1ms/step - loss: 1.1956 - accuracy: 0.4487 - val_loss: 1.1371 - val_accuracy: 0.4863\n",
      "Epoch 3/10\n",
      "23/23 [==============================] - 0s 1ms/step - loss: 1.1643 - accuracy: 0.4843 - val_loss: 1.1520 - val_accuracy: 0.4809\n",
      "Epoch 4/10\n",
      "23/23 [==============================] - 0s 1ms/step - loss: 1.1510 - accuracy: 0.5007 - val_loss: 1.1401 - val_accuracy: 0.5027\n",
      "Epoch 5/10\n",
      "23/23 [==============================] - 0s 1ms/step - loss: 1.1512 - accuracy: 0.4856 - val_loss: 1.1380 - val_accuracy: 0.5027\n",
      "Epoch 6/10\n",
      "23/23 [==============================] - 0s 1ms/step - loss: 1.1398 - accuracy: 0.4788 - val_loss: 1.1729 - val_accuracy: 0.4863\n",
      "Epoch 7/10\n",
      "23/23 [==============================] - 0s 1ms/step - loss: 1.1371 - accuracy: 0.4993 - val_loss: 1.1463 - val_accuracy: 0.4973\n",
      "Epoch 8/10\n",
      "23/23 [==============================] - 0s 1ms/step - loss: 1.1349 - accuracy: 0.4911 - val_loss: 1.1514 - val_accuracy: 0.4918\n",
      "Epoch 9/10\n",
      "23/23 [==============================] - 0s 1ms/step - loss: 1.1290 - accuracy: 0.5103 - val_loss: 1.1515 - val_accuracy: 0.4863\n",
      "Epoch 10/10\n",
      "23/23 [==============================] - 0s 1ms/step - loss: 1.1319 - accuracy: 0.4952 - val_loss: 1.1203 - val_accuracy: 0.5246\n"
     ]
    },
    {
     "data": {
      "text/plain": [
       "<keras.callbacks.History at 0x7f8ac00d1ca0>"
      ]
     },
     "execution_count": 7,
     "metadata": {},
     "output_type": "execute_result"
    }
   ],
   "source": [
    "# Train the model. Each epoch is a pass through the dataset\n",
    "model.fit(X_train, y_train, epochs=10, validation_split=0.2)"
   ]
  },
  {
   "cell_type": "code",
   "execution_count": 8,
   "id": "7bb28fe8",
   "metadata": {},
   "outputs": [
    {
     "name": "stdout",
     "output_type": "stream",
     "text": [
      "test loss, test acc: [1.0479280948638916, 0.5109170079231262]\n"
     ]
    }
   ],
   "source": [
    "# Evaluating model on test data\n",
    "results = model.evaluate(X_val, y_val, verbose = 0)\n",
    "print('test loss, test acc:', results)"
   ]
  },
  {
   "cell_type": "markdown",
   "id": "cb6ab846",
   "metadata": {},
   "source": [
    "That concludes the final module. Note that this a a very surface level look at machine learning, there are many common models such as K-Means, SVMs and random forests which weren't touched on, and a lot of theory behind how each model works. "
   ]
  },
  {
   "cell_type": "code",
   "execution_count": null,
   "id": "a5fa7f24",
   "metadata": {},
   "outputs": [],
   "source": []
  }
 ],
 "metadata": {
  "kernelspec": {
   "display_name": "Python 3 (ipykernel)",
   "language": "python",
   "name": "python3"
  },
  "language_info": {
   "codemirror_mode": {
    "name": "ipython",
    "version": 3
   },
   "file_extension": ".py",
   "mimetype": "text/x-python",
   "name": "python",
   "nbconvert_exporter": "python",
   "pygments_lexer": "ipython3",
   "version": "3.9.7"
  }
 },
 "nbformat": 4,
 "nbformat_minor": 5
}
